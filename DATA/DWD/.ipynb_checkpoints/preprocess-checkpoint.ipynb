{
 "cells": [
  {
   "cell_type": "code",
   "execution_count": 1,
   "id": "6bca1c22-6dd5-4c04-9f12-621c4ebbb512",
   "metadata": {},
   "outputs": [],
   "source": [
    "import csv\n",
    "import numpy"
   ]
  },
  {
   "cell_type": "code",
   "execution_count": 2,
   "id": "6cfc5c33-cc7c-4113-a55f-6137a4a5860b",
   "metadata": {},
   "outputs": [],
   "source": [
    "file='produkt_klima_tag_19510101_20231231_04336.txt'\n",
    "f = open(file, 'r')\n"
   ]
  },
  {
   "cell_type": "code",
   "execution_count": null,
   "id": "45a2bd59-b519-4126-bb86-dfbfe6668f33",
   "metadata": {},
   "outputs": [],
   "source": []
  }
 ],
 "metadata": {
  "kernelspec": {
   "display_name": "Python 3 (ipykernel)",
   "language": "python",
   "name": "python3"
  },
  "language_info": {
   "codemirror_mode": {
    "name": "ipython",
    "version": 3
   },
   "file_extension": ".py",
   "mimetype": "text/x-python",
   "name": "python",
   "nbconvert_exporter": "python",
   "pygments_lexer": "ipython3",
   "version": "3.13.0"
  }
 },
 "nbformat": 4,
 "nbformat_minor": 5
}
